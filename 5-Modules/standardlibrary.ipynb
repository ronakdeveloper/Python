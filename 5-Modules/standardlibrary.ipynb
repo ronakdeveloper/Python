{
 "cells": [
  {
   "cell_type": "markdown",
   "metadata": {},
   "source": [
    "### Standard Library Overview\n",
    "\n",
    "Python's Standard Library is a vast collection of modules and packages that come bundled with Python, providing a wide range of functionalities out of the box. Here's an overview of some of the most commonly used modules and packages in the Python Standard Library."
   ]
  },
  {
   "cell_type": "code",
   "execution_count": 2,
   "metadata": {},
   "outputs": [
    {
     "name": "stdout",
     "output_type": "stream",
     "text": [
      "array('i', [1, 2, 3, 4])\n"
     ]
    }
   ],
   "source": [
    "import array\n",
    "arr = array.array('i',[1,2,3,4])\n",
    "print(arr)"
   ]
  },
  {
   "cell_type": "code",
   "execution_count": 4,
   "metadata": {},
   "outputs": [
    {
     "name": "stdout",
     "output_type": "stream",
     "text": [
      "4.0\n",
      "10\n"
     ]
    }
   ],
   "source": [
    "import math\n",
    "print(math.sqrt(16))\n",
    "print(math.floor(10.20))"
   ]
  },
  {
   "cell_type": "code",
   "execution_count": 10,
   "metadata": {},
   "outputs": [
    {
     "name": "stdout",
     "output_type": "stream",
     "text": [
      "2\n",
      "Blue\n"
     ]
    }
   ],
   "source": [
    "## random \n",
    "import random\n",
    "print(random.randint(1,10))\n",
    "print(random.choice(['Red','Blue','Green']))"
   ]
  },
  {
   "cell_type": "code",
   "execution_count": 11,
   "metadata": {},
   "outputs": [
    {
     "name": "stdout",
     "output_type": "stream",
     "text": [
      "d:\\Ronak\\Data Engineering\\Python\\5-Modules\n"
     ]
    }
   ],
   "source": [
    "## File and Directory Access\n",
    "import os\n",
    "print(os.getcwd())"
   ]
  },
  {
   "cell_type": "code",
   "execution_count": null,
   "metadata": {},
   "outputs": [],
   "source": [
    "os.mkdir('test_dir')"
   ]
  },
  {
   "cell_type": "code",
   "execution_count": 12,
   "metadata": {},
   "outputs": [
    {
     "data": {
      "text/plain": [
       "'destination.txt'"
      ]
     },
     "execution_count": 12,
     "metadata": {},
     "output_type": "execute_result"
    }
   ],
   "source": [
    "## High level operaions on files and collection of files\n",
    "import shutil\n",
    "shutil.copyfile('source.txt','destination.txt')"
   ]
  },
  {
   "cell_type": "code",
   "execution_count": 14,
   "metadata": {},
   "outputs": [
    {
     "name": "stdout",
     "output_type": "stream",
     "text": [
      "{\"name\": \"Ronak\", \"age\": 22}\n",
      "<class 'str'>\n",
      "{'name': 'Ronak', 'age': 22}\n",
      "<class 'dict'>\n"
     ]
    }
   ],
   "source": [
    "## Data Serialization\n",
    "import json\n",
    "data = {\"name\":\"Ronak\",\"age\":22}\n",
    "json_str = json.dumps(data)\n",
    "print(json_str)\n",
    "print(type(json_str))\n",
    "\n",
    "parsed_data = json.loads(json_str)\n",
    "print(parsed_data)\n",
    "print(type(parsed_data))"
   ]
  },
  {
   "cell_type": "code",
   "execution_count": 15,
   "metadata": {},
   "outputs": [
    {
     "name": "stdout",
     "output_type": "stream",
     "text": [
      "['name', 'age']\n",
      "['Ronak', '24']\n"
     ]
    }
   ],
   "source": [
    "## CSV\n",
    "import csv\n",
    "\n",
    "with open('example.csv',mode='w',newline='') as file:\n",
    "    writer = csv.writer(file)\n",
    "    writer.writerow(['name','age'])\n",
    "    writer.writerow(['Ronak',24])\n",
    "\n",
    "with open('example.csv',mode='r') as file:\n",
    "    reader = csv.reader(file)\n",
    "    for row in reader:\n",
    "        print(row)"
   ]
  },
  {
   "cell_type": "code",
   "execution_count": 18,
   "metadata": {},
   "outputs": [
    {
     "name": "stdout",
     "output_type": "stream",
     "text": [
      "2025-03-07 16:05:23.260867\n",
      "2025-03-06 16:05:23.260867\n"
     ]
    }
   ],
   "source": [
    "## datetime \n",
    "from datetime import datetime,timedelta\n",
    "\n",
    "now = datetime.now()\n",
    "print(now)\n",
    "\n",
    "yesterday = now - timedelta(days=1)\n",
    "print(yesterday)"
   ]
  },
  {
   "cell_type": "code",
   "execution_count": 20,
   "metadata": {},
   "outputs": [
    {
     "name": "stdout",
     "output_type": "stream",
     "text": [
      "1741343781.2744625\n",
      "1741343783.2763915\n"
     ]
    }
   ],
   "source": [
    "## time\n",
    "import time\n",
    "print(time.time())\n",
    "time.sleep(2)\n",
    "print(time.time())"
   ]
  },
  {
   "cell_type": "code",
   "execution_count": 21,
   "metadata": {},
   "outputs": [
    {
     "name": "stdout",
     "output_type": "stream",
     "text": [
      "123\n"
     ]
    }
   ],
   "source": [
    "## Regular Expresion\n",
    "import re\n",
    "\n",
    "pattern = r'\\d+'\n",
    "text = \"There are 123 apples\"\n",
    "match = re.search(pattern,text)\n",
    "print(match.group())"
   ]
  }
 ],
 "metadata": {
  "kernelspec": {
   "display_name": "Python 3",
   "language": "python",
   "name": "python3"
  },
  "language_info": {
   "codemirror_mode": {
    "name": "ipython",
    "version": 3
   },
   "file_extension": ".py",
   "mimetype": "text/x-python",
   "name": "python",
   "nbconvert_exporter": "python",
   "pygments_lexer": "ipython3",
   "version": "3.12.0"
  }
 },
 "nbformat": 4,
 "nbformat_minor": 2
}
