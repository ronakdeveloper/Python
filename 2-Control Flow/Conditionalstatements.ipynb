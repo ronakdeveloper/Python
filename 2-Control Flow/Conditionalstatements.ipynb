{
 "cells": [
  {
   "cell_type": "markdown",
   "metadata": {},
   "source": [
    "#### Conditional Statements (if, elif, else)\n",
    "\n",
    "1. Introduction to Conditional Statements\n",
    "2. if Statement\n",
    "3. else Statement\n",
    "4. elif Statement\n",
    "5. Nested Conditional Statements\n",
    "6. Practical Examples\n",
    "7. Common Errors and Best Practices"
   ]
  },
  {
   "cell_type": "code",
   "execution_count": 1,
   "metadata": {},
   "outputs": [
    {
     "name": "stdout",
     "output_type": "stream",
     "text": [
      "You are allowed to vote in the elections\n"
     ]
    }
   ],
   "source": [
    "## if statement\n",
    "\n",
    "age = 20\n",
    "\n",
    "if age >= 18:\n",
    "    print(\"You are allowed to vote in the elections\")"
   ]
  },
  {
   "cell_type": "code",
   "execution_count": 2,
   "metadata": {},
   "outputs": [
    {
     "data": {
      "text/plain": [
       "True"
      ]
     },
     "execution_count": 2,
     "metadata": {},
     "output_type": "execute_result"
    }
   ],
   "source": [
    "age >= 18"
   ]
  },
  {
   "cell_type": "code",
   "execution_count": 4,
   "metadata": {},
   "outputs": [
    {
     "name": "stdout",
     "output_type": "stream",
     "text": [
      "You are a minor\n"
     ]
    }
   ],
   "source": [
    "## else statement\n",
    "## The else statement executes a block of code if the condition in the if statement is False.\n",
    "\n",
    "age = 16\n",
    "\n",
    "if age >= 18:\n",
    "    print(\"You are eligible for voting\")\n",
    "else:\n",
    "    print(\"You are a minor\")"
   ]
  },
  {
   "cell_type": "code",
   "execution_count": 6,
   "metadata": {},
   "outputs": [
    {
     "name": "stdout",
     "output_type": "stream",
     "text": [
      "You are a teenager\n"
     ]
    }
   ],
   "source": [
    "## elif statement\n",
    "## The elif statement allows you to check multiple conditions. It stands for \"Else If\"\n",
    "\n",
    "age = 17\n",
    "\n",
    "if age < 13:\n",
    "    print(\"You are a child\")\n",
    "elif age<18:\n",
    "    print(\"You are a teenager\")\n",
    "else:\n",
    "    print(\"You are an adult\")"
   ]
  },
  {
   "cell_type": "code",
   "execution_count": null,
   "metadata": {},
   "outputs": [
    {
     "name": "stdout",
     "output_type": "stream",
     "text": [
      "Positive\n",
      "The Number is Odd\n"
     ]
    }
   ],
   "source": [
    "## Nested Conditional Statements\n",
    "## You can place one or more if, elif, or else statements inside another if, elif or else statement to create nested conditional statements.\n",
    "\n",
    "## Find the number is even, odd, negative\n",
    "\n",
    "num = int(input(\"Enter the Number\"))\n",
    "\n",
    "if num>0:\n",
    "    if num%2==0:\n",
    "        print(\"The Number is Even\")\n",
    "    else:\n",
    "        print(\"The Number is Odd\")\n",
    "else:\n",
    "    print(\"The Number is Zero or Negative\")"
   ]
  },
  {
   "cell_type": "code",
   "execution_count": 25,
   "metadata": {},
   "outputs": [
    {
     "name": "stdout",
     "output_type": "stream",
     "text": [
      "2000 is a leap year\n"
     ]
    }
   ],
   "source": [
    "## Practical Examples \n",
    "\n",
    "## Determine if a year is a leap year using nested condition statement\n",
    "\n",
    "year = int(input(\"Enter the year\"))\n",
    "\n",
    "if (year%4==0):\n",
    "    if (year%100==0):\n",
    "        if(year%400==0):\n",
    "            print(year, \"is a leap year\")\n",
    "        else:\n",
    "            print(year, \"is not a leap year\")\n",
    "    else:\n",
    "        print(year, \"is Leap year\")\n",
    "else:\n",
    "    print(year, \"is not Leap year\")"
   ]
  },
  {
   "cell_type": "code",
   "execution_count": 32,
   "metadata": {},
   "outputs": [
    {
     "name": "stdout",
     "output_type": "stream",
     "text": [
      "Result:  2.0\n"
     ]
    }
   ],
   "source": [
    "## Assignment   \n",
    "\n",
    "## Simple Calculator program\n",
    "\n",
    "num1 = int(input(\"Enter the First Number: \"))\n",
    "num2 = int(input(\"Enter the Second Number: \"))\n",
    "operation = input(\"Enter operation (+, -, *, /): \")\n",
    "\n",
    "## Perform the operation\n",
    "\n",
    "if (operation==\"+\"):\n",
    "    result = num1 + num2\n",
    "elif (operation==\"-\"):\n",
    "    result = num1 - num2\n",
    "elif (operation==\"*\"):\n",
    "    result = num1 * num2\n",
    "elif (operation==\"/\"):\n",
    "    if num2 != 0:\n",
    "        result = num1 / num2    \n",
    "    else:\n",
    "        result = \"Error! Division by Zero\"\n",
    "else:\n",
    "    result = \"Invalid Operation\"\n",
    "\n",
    "print(\"Result: \", result)\n"
   ]
  },
  {
   "cell_type": "code",
   "execution_count": 38,
   "metadata": {},
   "outputs": [
    {
     "name": "stdout",
     "output_type": "stream",
     "text": [
      "Ticket price:  $25\n"
     ]
    }
   ],
   "source": [
    "## Determine the ticket price based on age and whether the person is student.\n",
    "\n",
    "age = int(input(\"Enter the age: \"))\n",
    "is_student = input(\"Enter Yes / No: \").lower()\n",
    "\n",
    "if age<=5:\n",
    "    price = \"Free\"\n",
    "elif age<=12:\n",
    "    price = \"$10\"\n",
    "elif age<=17:\n",
    "    if is_student == 'yes':\n",
    "        price = \"$12\"\n",
    "    else:\n",
    "        price = \"$15\"\n",
    "elif age<=64:\n",
    "    if is_student == 'yes':\n",
    "        price = \"$18\"\n",
    "    else:\n",
    "        price = \"$25\"\n",
    "else:\n",
    "    price = \"$20\"\n",
    "\n",
    "print(\"Ticket price: \", price)"
   ]
  }
 ],
 "metadata": {
  "kernelspec": {
   "display_name": "Python 3",
   "language": "python",
   "name": "python3"
  },
  "language_info": {
   "codemirror_mode": {
    "name": "ipython",
    "version": 3
   },
   "file_extension": ".py",
   "mimetype": "text/x-python",
   "name": "python",
   "nbconvert_exporter": "python",
   "pygments_lexer": "ipython3",
   "version": "3.12.0"
  }
 },
 "nbformat": 4,
 "nbformat_minor": 2
}
