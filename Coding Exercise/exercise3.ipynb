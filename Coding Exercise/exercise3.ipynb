{
 "cells": [
  {
   "cell_type": "markdown",
   "metadata": {},
   "source": [
    "Rectangle Pattern\n",
    "Problem Description:\n",
    "\n",
    "You are given two integers, n and m. Your task is to return a rectangle pattern of '*', where n represents the number of rows (length) and m represents the number of columns (breadth).\n",
    "\n",
    "\n",
    "\n",
    "Input:\n",
    "\n",
    "Two integers n and m, where 1 <= n, m <= 100.\n",
    "\n",
    "\n",
    "\n",
    "Output:\n",
    "\n",
    "A list of strings where each string represents a row of the rectangle pattern.\n",
    "\n",
    "\n",
    "\n",
    "Example:\n",
    "\n",
    "Input: n = 4, m = 5\n",
    "Output: ['*****', '*****', '*****', '*****']\n",
    " \n",
    "Input: n = 3, m = 2\n",
    "Output: ['**', '**', '**']"
   ]
  },
  {
   "cell_type": "code",
   "execution_count": null,
   "metadata": {},
   "outputs": [],
   "source": [
    "def generate_rectangle(n,m):\n",
    "    \"\"\"\n",
    "    Function to return a rectangle pattern of '*' with length n and breadth m as a list of strings.\n",
    "    \n",
    "    Parameters:\n",
    "    n (int): The number of rows in the rectangle.\n",
    "    m (int): The number of columns in the rectangle.\n",
    "    \n",
    "    Returns:\n",
    "    list: A list of strings where each string represents a row of the rectangle pattern.\n",
    "    \"\"\"\n",
    "\n",
    "    ## Code here\n",
    "    rectangle = []\n",
    "\n",
    "    for i in range(n):\n",
    "        rectangle.append('*' * m)\n",
    "\n",
    "    return rectangle\n",
    "\n",
    "    "
   ]
  },
  {
   "cell_type": "code",
   "execution_count": 22,
   "metadata": {},
   "outputs": [
    {
     "data": {
      "text/plain": [
       "['**', '**', '**', '**', '**']"
      ]
     },
     "execution_count": 22,
     "metadata": {},
     "output_type": "execute_result"
    }
   ],
   "source": [
    "generate_rectangle(5,2)"
   ]
  }
 ],
 "metadata": {
  "kernelspec": {
   "display_name": "Python 3",
   "language": "python",
   "name": "python3"
  },
  "language_info": {
   "codemirror_mode": {
    "name": "ipython",
    "version": 3
   },
   "file_extension": ".py",
   "mimetype": "text/x-python",
   "name": "python",
   "nbconvert_exporter": "python",
   "pygments_lexer": "ipython3",
   "version": "3.12.0"
  }
 },
 "nbformat": 4,
 "nbformat_minor": 2
}
