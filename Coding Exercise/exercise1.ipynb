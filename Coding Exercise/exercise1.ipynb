{
 "cells": [
  {
   "cell_type": "markdown",
   "metadata": {},
   "source": [
    "Square of side 'N'\n",
    "Problem Description: You are given an integer n. Your task is to return a square pattern of size n x n made up of the character '*', represented as a list of strings.\n",
    "\n",
    "Input Parameters:\n",
    "\n",
    "n (int): The size of the square (number of rows and columns).\n",
    "\n",
    "\n",
    "\n",
    "Output:\n",
    "\n",
    "A list of strings where each string is a row of n characters.\n",
    "\n",
    "\n",
    "\n",
    "Example:\n",
    "\n",
    "Input: 3\n",
    "Output: ['***', '***', '***']\n",
    " \n",
    "Input: 5\n",
    "Output: ['*****', '*****', '*****', '*****', '*****']"
   ]
  },
  {
   "cell_type": "code",
   "execution_count": 4,
   "metadata": {},
   "outputs": [
    {
     "data": {
      "text/plain": [
       "['*****', '*****', '*****', '*****', '*****']"
      ]
     },
     "execution_count": 4,
     "metadata": {},
     "output_type": "execute_result"
    }
   ],
   "source": [
    "def generate_square(n):\n",
    "    \"\"\"\n",
    "    Function to return a square pattern of '*' of side n as a list of strings.\n",
    "    \n",
    "    Parameters:\n",
    "    n (int): The size of the square.\n",
    "    \n",
    "    Returns:\n",
    "    list: A list of strings where each string represents a row of the square.\n",
    "    \"\"\"\n",
    "    # Your code here\n",
    "    square = []\n",
    "    for i in range(n):\n",
    "        square.append('*' * n)\n",
    "    \n",
    "    return square\n",
    "\n",
    "generate_square(5)  "
   ]
  }
 ],
 "metadata": {
  "kernelspec": {
   "display_name": "Python 3",
   "language": "python",
   "name": "python3"
  },
  "language_info": {
   "codemirror_mode": {
    "name": "ipython",
    "version": 3
   },
   "file_extension": ".py",
   "mimetype": "text/x-python",
   "name": "python",
   "nbconvert_exporter": "python",
   "pygments_lexer": "ipython3",
   "version": "3.11.9"
  }
 },
 "nbformat": 4,
 "nbformat_minor": 2
}
