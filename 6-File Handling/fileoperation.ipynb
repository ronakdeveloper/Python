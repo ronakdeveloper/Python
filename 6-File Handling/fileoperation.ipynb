{
 "cells": [
  {
   "cell_type": "markdown",
   "metadata": {},
   "source": [
    "### File Operation - Read and Write Files\n",
    "\n",
    "File handling is a crucial part of any programming language. Python provides built-in functions and methods to read from and write to files, both text and binary. This lesson will cover the basics of file handling, including reading and writing text files and binary files."
   ]
  },
  {
   "cell_type": "code",
   "execution_count": null,
   "metadata": {},
   "outputs": [
    {
     "name": "stdout",
     "output_type": "stream",
     "text": [
      "Hello How are you?\n",
      "I am good\n",
      "My name is Ronak\n",
      "Welcome to the github\n"
     ]
    }
   ],
   "source": [
    "## Read a whole file\n",
    "with open('example.txt',mode='r') as file:\n",
    "    content = file.read()\n",
    "    print(content)"
   ]
  },
  {
   "cell_type": "code",
   "execution_count": 7,
   "metadata": {},
   "outputs": [
    {
     "name": "stdout",
     "output_type": "stream",
     "text": [
      "Hello World\n",
      "this is a new line.\n"
     ]
    }
   ],
   "source": [
    "## Read a file line by line\n",
    "with open('example.txt',mode='r') as file:\n",
    "    for line in file:\n",
    "        print(line.strip()) ## strip() removes the new line character"
   ]
  },
  {
   "cell_type": "code",
   "execution_count": 13,
   "metadata": {},
   "outputs": [],
   "source": [
    "## Writing a file (Overwriting)    \n",
    "with open('example.txt',mode='w') as file:\n",
    "    file.write('Hello World\\n')\n",
    "    file.write('this is a new line.')"
   ]
  },
  {
   "cell_type": "code",
   "execution_count": 15,
   "metadata": {},
   "outputs": [],
   "source": [
    "## Write a file (without overwriting)\n",
    "with open('example.txt',mode='a') as file:\n",
    "    file.write('Append operation is taking place!\\n')"
   ]
  },
  {
   "cell_type": "code",
   "execution_count": 16,
   "metadata": {},
   "outputs": [],
   "source": [
    "## Writing a list of lines to a file\n",
    "lines = ['First line\\n', 'Second Line\\n', 'Third Line\\n']\n",
    "with open('example.txt',mode='a') as file:\n",
    "    file.writelines(lines)"
   ]
  },
  {
   "cell_type": "code",
   "execution_count": 24,
   "metadata": {},
   "outputs": [],
   "source": [
    "## Binary Files\n",
    "\n",
    "## Writing to a binary file\n",
    "data = b'\\x00\\x01\\x02\\x03\\x04'\n",
    "with open('example.bin',mode='wb') as file:\n",
    "    file.write(data)"
   ]
  },
  {
   "cell_type": "code",
   "execution_count": 25,
   "metadata": {},
   "outputs": [
    {
     "name": "stdout",
     "output_type": "stream",
     "text": [
      "b'\\x00\\x01\\x02\\x03\\x04'\n"
     ]
    }
   ],
   "source": [
    "## Read a binary file\n",
    "with open('example.bin',mode='rb') as file:\n",
    "    content = file.read()\n",
    "    print(content)"
   ]
  },
  {
   "cell_type": "code",
   "execution_count": 26,
   "metadata": {},
   "outputs": [],
   "source": [
    "## Read the content from source text file and write to a destination text file\n",
    "with open('example.txt',mode='r') as source_file:\n",
    "    content = source_file.read()\n",
    "\n",
    "with open('destination.txt',mode='w') as destination_file:\n",
    "    destination_file.write(content)"
   ]
  },
  {
   "cell_type": "code",
   "execution_count": null,
   "metadata": {},
   "outputs": [
    {
     "name": "stdout",
     "output_type": "stream",
     "text": [
      "Lines: 6, Words: 22, Characters: 132\n"
     ]
    }
   ],
   "source": [
    "## Read a text file and count the number of lines, words and characters.\n",
    "## Counting lines, words and characters in a text file.\n",
    "def count_text_file(filepath):\n",
    "    with open(filepath,'r') as files:\n",
    "        lines = files.readlines()\n",
    "        line_count = len(lines)\n",
    "        word_count = sum(len(line.split()) for line in lines)\n",
    "        char_count = sum(len(line) for line in lines)\n",
    "        return line_count,word_count,char_count\n",
    "    \n",
    "file_path = 'example.txt'\n",
    "lines,words,characters = count_text_file(file_path)\n",
    "print(f'Lines: {lines}, Words: {words}, Characters: {characters}')"
   ]
  },
  {
   "cell_type": "markdown",
   "metadata": {},
   "source": [
    "The w+ mode in Python is used to open a file for both reading and writing. If the file does not exist, it will be created. If the file exists, its content is truncated (i.e., file is overwritten)"
   ]
  },
  {
   "cell_type": "code",
   "execution_count": 63,
   "metadata": {},
   "outputs": [
    {
     "name": "stdout",
     "output_type": "stream",
     "text": [
      "Hello World\n",
      "This is a new line\n",
      "\n"
     ]
    }
   ],
   "source": [
    "## Writing then reading a file\n",
    "with open('example.txt','w+') as file:\n",
    "    file.write(\"Hello World\\n\")\n",
    "    file.write(\"This is a new line\\n\")\n",
    "\n",
    "    ## Move the file cursor to the beginning\n",
    "    file.seek(0)\n",
    "    \n",
    "    ## Read the content of the file\n",
    "    content = file.read()\n",
    "    print(content)"
   ]
  }
 ],
 "metadata": {
  "kernelspec": {
   "display_name": "Python 3",
   "language": "python",
   "name": "python3"
  },
  "language_info": {
   "codemirror_mode": {
    "name": "ipython",
    "version": 3
   },
   "file_extension": ".py",
   "mimetype": "text/x-python",
   "name": "python",
   "nbconvert_exporter": "python",
   "pygments_lexer": "ipython3",
   "version": "3.12.0"
  }
 },
 "nbformat": 4,
 "nbformat_minor": 2
}
