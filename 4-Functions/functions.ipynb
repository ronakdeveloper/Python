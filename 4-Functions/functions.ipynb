{
 "cells": [
  {
   "cell_type": "markdown",
   "metadata": {},
   "source": [
    "##### Introduction to Functions\n",
    "Definition:\n",
    "\n",
    "A function is a block of code that performs a specific task.\n",
    "Functions help in organizing code, reusing code, and improving readability.\n",
    "\n"
   ]
  },
  {
   "cell_type": "code",
   "execution_count": 1,
   "metadata": {},
   "outputs": [],
   "source": [
    "## syntax \n",
    "def function_name(parameters):\n",
    "    \"\"\"Docstring\"\"\"\n",
    "    ## Function body\n",
    "    return expression"
   ]
  },
  {
   "cell_type": "code",
   "execution_count": 2,
   "metadata": {},
   "outputs": [
    {
     "name": "stdout",
     "output_type": "stream",
     "text": [
      "the number is even\n"
     ]
    }
   ],
   "source": [
    "## why functions?\n",
    "num = 24\n",
    "if num%2==0:\n",
    "    print(\"the number is even\")\n",
    "else:\n",
    "    print(\"the number is odd\")"
   ]
  },
  {
   "cell_type": "code",
   "execution_count": 3,
   "metadata": {},
   "outputs": [],
   "source": [
    "def even_or_odd(num):\n",
    "    \"\"\"This function finds even or odd\"\"\"\n",
    "    if num%2==0:\n",
    "        print(\"The number is even\")\n",
    "    else:\n",
    "        print(\"The number is odd\")"
   ]
  },
  {
   "cell_type": "code",
   "execution_count": 6,
   "metadata": {},
   "outputs": [
    {
     "name": "stdout",
     "output_type": "stream",
     "text": [
      "The number is even\n"
     ]
    }
   ],
   "source": [
    "## Call this function\n",
    "even_or_odd(12)"
   ]
  },
  {
   "cell_type": "code",
   "execution_count": null,
   "metadata": {},
   "outputs": [
    {
     "name": "stdout",
     "output_type": "stream",
     "text": [
      "15\n"
     ]
    }
   ],
   "source": [
    "## Function with multiple parameters\n",
    "\n",
    "def add(a,b):\n",
    "    return a+b\n",
    "\n",
    "result = add(10,5)\n",
    "print(result)"
   ]
  },
  {
   "cell_type": "code",
   "execution_count": 9,
   "metadata": {},
   "outputs": [
    {
     "name": "stdout",
     "output_type": "stream",
     "text": [
      "Hello Ronak Welcome To the paradise\n"
     ]
    }
   ],
   "source": [
    "## Default Parameters\n",
    "def greet(name):\n",
    "    print(f\"Hello {name} Welcome To the paradise\")\n",
    "\n",
    "greet(\"Ronak\")"
   ]
  },
  {
   "cell_type": "code",
   "execution_count": 13,
   "metadata": {},
   "outputs": [
    {
     "name": "stdout",
     "output_type": "stream",
     "text": [
      "Hello Guest Welcome To the paradise\n"
     ]
    }
   ],
   "source": [
    "def greet(name=\"Guest\"):\n",
    "    print(f\"Hello {name} Welcome To the paradise\")\n",
    "\n",
    "greet()"
   ]
  },
  {
   "cell_type": "code",
   "execution_count": 14,
   "metadata": {},
   "outputs": [
    {
     "name": "stdout",
     "output_type": "stream",
     "text": [
      "1\n",
      "2\n",
      "3\n",
      "4\n",
      "5\n",
      "6\n",
      "Ronak\n"
     ]
    }
   ],
   "source": [
    "## Variable Length Arguments\n",
    "## Positional and Keywords arguments\n",
    "\n",
    "def print_numbers(*Ronak):\n",
    "    for number in Ronak:\n",
    "        print(number)\n",
    "\n",
    "print_numbers(1,2,3,4,5,6,\"Ronak\")"
   ]
  },
  {
   "cell_type": "code",
   "execution_count": 15,
   "metadata": {},
   "outputs": [],
   "source": [
    "## Positional Arguments\n",
    "def print_numbers(*args):\n",
    "    for number in args:\n",
    "        print(number)"
   ]
  },
  {
   "cell_type": "code",
   "execution_count": 17,
   "metadata": {},
   "outputs": [
    {
     "name": "stdout",
     "output_type": "stream",
     "text": [
      "1\n",
      "2\n",
      "3\n",
      "4\n",
      "5\n",
      "6\n",
      "Ronak\n"
     ]
    }
   ],
   "source": [
    "print_numbers(1,2,3,4,5,6,\"Ronak\")"
   ]
  },
  {
   "cell_type": "code",
   "execution_count": 18,
   "metadata": {},
   "outputs": [],
   "source": [
    "## Keywords Arguments\n",
    "def print_details(**kwargs):\n",
    "    for key,value in kwargs.items():\n",
    "        print(f\"{key}:{value}\")"
   ]
  },
  {
   "cell_type": "code",
   "execution_count": 19,
   "metadata": {},
   "outputs": [
    {
     "name": "stdout",
     "output_type": "stream",
     "text": [
      "name:Ronak\n",
      "age:24\n",
      "country:India\n"
     ]
    }
   ],
   "source": [
    "print_details(name=\"Ronak\",age=24,country=\"India\")"
   ]
  },
  {
   "cell_type": "code",
   "execution_count": 20,
   "metadata": {},
   "outputs": [],
   "source": [
    "def print_details(*args,**kwargs):\n",
    "    for val in args:\n",
    "        print(f\"Positional Arguments: {val}\")\n",
    "\n",
    "    for key,value in kwargs.items():\n",
    "        print(f\"{key}:{value}\")"
   ]
  },
  {
   "cell_type": "code",
   "execution_count": 21,
   "metadata": {},
   "outputs": [
    {
     "name": "stdout",
     "output_type": "stream",
     "text": [
      "Positional Arguments: 1\n",
      "Positional Arguments: 2\n",
      "Positional Arguments: 3\n",
      "Positional Arguments: 4\n",
      "Positional Arguments: 5\n",
      "Positional Arguments: 6\n",
      "Positional Arguments: Ronak\n",
      "name:Ronak\n",
      "age:24\n",
      "country:India\n"
     ]
    }
   ],
   "source": [
    "print_details(1,2,3,4,5,6,\"Ronak\",name=\"Ronak\",age=24,country=\"India\")"
   ]
  },
  {
   "cell_type": "code",
   "execution_count": 27,
   "metadata": {},
   "outputs": [
    {
     "data": {
      "text/plain": [
       "6"
      ]
     },
     "execution_count": 27,
     "metadata": {},
     "output_type": "execute_result"
    }
   ],
   "source": [
    "## Return Statements\n",
    "\n",
    "def multiply(a,b):\n",
    "    return a*b\n",
    "\n",
    "multiply(2,3)"
   ]
  },
  {
   "cell_type": "code",
   "execution_count": 28,
   "metadata": {},
   "outputs": [
    {
     "data": {
      "text/plain": [
       "(2, 3, 6)"
      ]
     },
     "execution_count": 28,
     "metadata": {},
     "output_type": "execute_result"
    }
   ],
   "source": [
    "## Return Multiple parameters\n",
    "\n",
    "def multiply(a,b):\n",
    "    return a,b,a*b\n",
    "\n",
    "multiply(2,3)"
   ]
  }
 ],
 "metadata": {
  "kernelspec": {
   "display_name": "Python 3",
   "language": "python",
   "name": "python3"
  },
  "language_info": {
   "codemirror_mode": {
    "name": "ipython",
    "version": 3
   },
   "file_extension": ".py",
   "mimetype": "text/x-python",
   "name": "python",
   "nbconvert_exporter": "python",
   "pygments_lexer": "ipython3",
   "version": "3.12.0"
  }
 },
 "nbformat": 4,
 "nbformat_minor": 2
}
