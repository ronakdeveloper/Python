{
 "cells": [
  {
   "cell_type": "markdown",
   "metadata": {},
   "source": [
    "#### Custom Exception (Raise and Throw an Exception)"
   ]
  },
  {
   "cell_type": "code",
   "execution_count": 1,
   "metadata": {},
   "outputs": [],
   "source": [
    "class Error(Exception):\n",
    "    pass\n",
    "\n",
    "class DobException(Error):\n",
    "    pass"
   ]
  },
  {
   "cell_type": "code",
   "execution_count": 13,
   "metadata": {},
   "outputs": [
    {
     "name": "stdout",
     "output_type": "stream",
     "text": [
      "Sorry, your age should be grater than 20 or less than 30!\n"
     ]
    }
   ],
   "source": [
    "year = int(input(\"Enter the DOB\"))\n",
    "age = 2025 - year\n",
    "\n",
    "try:\n",
    "    if age <= 30 and age >= 20:\n",
    "        print(\"The age is valid so you can apply for the Exam\")\n",
    "    else:\n",
    "        raise DobException\n",
    "except DobException:\n",
    "    print(\"Sorry, your age should be grater than 20 or less than 30!\")"
   ]
  }
 ],
 "metadata": {
  "kernelspec": {
   "display_name": "Python 3",
   "language": "python",
   "name": "python3"
  },
  "language_info": {
   "codemirror_mode": {
    "name": "ipython",
    "version": 3
   },
   "file_extension": ".py",
   "mimetype": "text/x-python",
   "name": "python",
   "nbconvert_exporter": "python",
   "pygments_lexer": "ipython3",
   "version": "3.12.0"
  }
 },
 "nbformat": 4,
 "nbformat_minor": 2
}
